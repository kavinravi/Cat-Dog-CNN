{
  "nbformat": 4,
  "nbformat_minor": 0,
  "metadata": {
    "colab": {
      "provenance": []
    },
    "kernelspec": {
      "name": "python3",
      "display_name": "Python 3"
    },
    "language_info": {
      "name": "python"
    }
  },
  "cells": [
    {
      "cell_type": "code",
      "execution_count": null,
      "metadata": {
        "id": "EmGm7Y6DpVMa"
      },
      "outputs": [],
      "source": [
        "from tensorflow.keras.models import Sequential\n",
        "from tensorflow.keras.layers import Conv2D, MaxPooling2D, Dense, Flatten\n",
        "import numpy as np\n",
        "import matplotlib.pyplot as plt\n",
        "import random"
      ]
    },
    {
      "cell_type": "code",
      "source": [
        "# loading in the data\n",
        "\n",
        "X_train = np.loadtxt('/content/input.csv', delimiter=',')\n",
        "Y_train = np.loadtxt('/content/labels.csv', delimiter=',')\n",
        "\n",
        "X_test = np.loadtxt('/content/input_test.csv', delimiter=',')\n",
        "Y_test = np.loadtxt('/content/labels_test.csv', delimiter=\",\")\n",
        "\n",
        "# reshaping so they're all standardized size images (100x100 pixels, RGB = 3 colors), test with 4 print statements below\n",
        "\n",
        "X_train = X_train.reshape(len(X_train), 100, 100, 3)\n",
        "Y_train = Y_train.reshape(len(Y_train), 1)\n",
        "\n",
        "X_test = X_test.reshape(len(X_test), 100, 100, 3)\n",
        "Y_test = Y_test.reshape(len(Y_test), 1)\n",
        "\n",
        "# print(\"Shape of X_train: \", X_train.shape)\n",
        "# print(\"Shape of Y_train: \", Y_train.shape)\n",
        "# print(\"Shape of X_test: \", X_test.shape)\n",
        "# print(\"Shape of Y_test: \", Y_test.shape)\n",
        "\n",
        "# making all the values value between 0 and 1 (rescaling)\n",
        "\n",
        "X_train = X_train / 255.0\n",
        "X_test = X_test / 255.0\n",
        "\n",
        "# Model building, can also do model = Sequential() and do model.add for subsequent lines for each layer\n",
        "model = Sequential([\n",
        "    Conv2D(32, (3, 3), activation='relu', input_shape=(100, 100, 3)),\n",
        "    MaxPooling2D(pool_size=(2, 2)),\n",
        "\n",
        "    Conv2D(32, (3, 3), activation='relu'),\n",
        "    MaxPooling2D(pool_size=(2, 2)),\n",
        "\n",
        "    Flatten(),\n",
        "    Dense(64, activation='relu'),\n",
        "    Dense(1, activation='sigmoid')\n",
        "])\n",
        "\n",
        "model.compile(loss='binary_crossentropy', optimizer='adam', metrics=['accuracy'])\n",
        "\n",
        "model.fit(X_train, Y_train, epochs=10, batch_size=64)\n",
        "\n",
        "evaluate = model.evaluate(X_test, Y_test)\n",
        "print(evaluate)\n",
        "\n",
        "\n",
        "model.save('cat_dog_classifier.keras')\n"
      ],
      "metadata": {
        "id": "beSoYQCFpfhQ"
      },
      "execution_count": null,
      "outputs": []
    }
  ]
}
{
  "nbformat": 4,
  "nbformat_minor": 0,
  "metadata": {
    "colab": {
      "provenance": []
    },
    "kernelspec": {
      "name": "python3",
      "display_name": "Python 3"
    },
    "language_info": {
      "name": "python"
    }
  },
  "cells": [
    {
      "cell_type": "code",
      "execution_count": null,
      "metadata": {
        "id": "6_tdBJCUqE7H"
      },
      "outputs": [],
      "source": [
        "from tensorflow.keras.models import load_model\n",
        "import numpy as np\n",
        "import matplotlib.pyplot as plt\n",
        "from PIL import Image\n",
        "import random"
      ]
    },
    {
      "cell_type": "code",
      "source": [
        "\n",
        "model = load_model('cat_dog_classifier.keras')\n",
        "\n",
        "\n",
        "def predict_image(model, img_path):\n",
        "    try:\n",
        "        # Load and preprocess the image\n",
        "        img = Image.open(img_path)\n",
        "        img = img.convert('RGB')\n",
        "        img = img.resize((100, 100))\n",
        "        img_array = np.array(img) / 255.0\n",
        "        img_array = np.expand_dims(img_array, axis=0)\n",
        "\n",
        "        # Make a prediction\n",
        "        y_pred = model.predict(img_array)\n",
        "        y_pred = y_pred > 0.5\n",
        "\n",
        "        # Interpret the prediction\n",
        "        pred = 'cat' if y_pred else 'dog'\n",
        "        print(f\"Our model predicts it is a {pred}\")\n",
        "\n",
        "        # Display the image\n",
        "        plt.imshow(img)\n",
        "        plt.title(f\"Predicted: {pred}\")\n",
        "        plt.axis('off')\n",
        "        plt.show()\n",
        "    except Exception as e:\n",
        "        print(f\"An error occurred: {e}\")\n",
        "\n",
        "\n",
        "# Replace 'path_to_your_image.jpg' with the actual image path\n",
        "predict_image(model, 'path_to_your_image.jpg')\n",
        "\n",
        "\n",
        "\n",
        "# here and below is a prediction for a random image in the dataset\n",
        "\n",
        "# idx2 = random.randint(0, len(Y_test))\n",
        "# plt.imshow(X_test[idx2, :])\n",
        "# plt.show()\n",
        "# y_pred = model.predict(X_test[idx2, :].reshape(1, 100, 100, 3))\n",
        "# y_pred = y_pred > 0.5\n",
        "#\n",
        "# if y_pred == 0:\n",
        "#     pred = 'dog'\n",
        "# else:\n",
        "#     pred = 'cat'\n",
        "#\n",
        "# print(f\"Our model predicts it is a {pred}\")"
      ],
      "metadata": {
        "id": "TB8jA8CKqKh8"
      },
      "execution_count": null,
      "outputs": []
    }
  ]
}